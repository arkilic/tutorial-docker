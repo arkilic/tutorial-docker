{
 "cells": [
  {
   "cell_type": "code",
   "execution_count": 1,
   "metadata": {
    "collapsed": false
   },
   "outputs": [],
   "source": [
    "#requires an excel file and xlrd\n",
    "\n",
    "import time\n",
    "import collections\n",
    "import uuid\n",
    "\n",
    "import pandas\n",
    "\n",
    "import amostra\n",
    "import amostra.client.local_commands as acc"
   ]
  },
  {
   "cell_type": "code",
   "execution_count": 2,
   "metadata": {
    "collapsed": true
   },
   "outputs": [],
   "source": [
    "owner = \"arkilic\"\n",
    "project = \"amostra_demo\"\n",
    "beamline_id = \"dbx\""
   ]
  },
  {
   "cell_type": "code",
   "execution_count": 3,
   "metadata": {
    "collapsed": false
   },
   "outputs": [],
   "source": [
    "# Connection Pool\n",
    "container_client = acc.LocalContainerReference(\"~/.amostra_files\")\n",
    "sample_client = acc.LocalSampleReference(\"~/.amostra_files\")"
   ]
  },
  {
   "cell_type": "code",
   "execution_count": 4,
   "metadata": {
    "collapsed": true
   },
   "outputs": [],
   "source": [
    "def insert_plate(plate_info):\n",
    "    plate = container_client.create(**plate_info)\n",
    "    return plate\n",
    "\n",
    "def insert_sample_list(samples):\n",
    "    res = []\n",
    "    for s in samples:\n",
    "        res.append(sample_client.create(s))\n",
    "    return res"
   ]
  },
  {
   "cell_type": "code",
   "execution_count": 5,
   "metadata": {
    "collapsed": false
   },
   "outputs": [],
   "source": [
    "def generate_plate(owner, project, beamline_id, kind, name, barcode, content):\n",
    "    plate_info = {    \n",
    "            \"owner\": owner,\n",
    "            \"project\": project,\n",
    "            \"beamline_id\": beamline_id,\n",
    "            \"kind\": kind,\n",
    "            \"name\": name,\n",
    "            \"barcode\": barcode,\n",
    "            \"content\": list(content)\n",
    "    }\n",
    "\n",
    "    return insert_plate(plate_info)"
   ]
  },
  {
   "cell_type": "code",
   "execution_count": 6,
   "metadata": {
    "collapsed": false
   },
   "outputs": [],
   "source": [
    "def generate_samples_96wp(project, beamline_id, owner, name):\n",
    "    samples = collections.deque()\n",
    "    for i in range(96):\n",
    "        sample_info = {\n",
    "            \"project\": project,\n",
    "            \"beamline_id\": beamline_id,\n",
    "            \"owner\": owner,\n",
    "            \"name\": name+\" {}\".format(i+1),\n",
    "            \"position\": {\"x\": int(i % 8), \"y\": int(i/8)},\n",
    "            \"concentration\": 0.001,\n",
    "            \"volume\": 10,\n",
    "            \"temperature\": 21.4    \n",
    "        }\n",
    "        samples.append(sample_info)\n",
    "    uids = insert_sample_list(samples)\n",
    "    return uids\n",
    "\n"
   ]
  },
  {
   "cell_type": "code",
   "execution_count": 7,
   "metadata": {
    "collapsed": true
   },
   "outputs": [],
   "source": [
    "def find_plate_by_barcode(owner, project, beamline_id, barcode):\n",
    "    samples = collections.deque()\n",
    "    plate_info = list(container_client.find(owner=owner, project=project, beamline_id=beamline_id, barcode=barcode))[0]\n",
    "    for s_uid in plate_info['content']:\n",
    "        samples.append(next(sample_client.find(uid=s_uid)))\n",
    "    \n",
    "    plate_info['content'] = list(samples)\n",
    "    return plate_info"
   ]
  },
  {
   "cell_type": "code",
   "execution_count": 8,
   "metadata": {
    "collapsed": false
   },
   "outputs": [],
   "source": [
    "number_of_plates = 5\n",
    "\n",
    "for i in range(number_of_plates):\n",
    "    samples = generate_samples_96wp(project, beamline_id, owner, \"Test Sample\")\n",
    "    plate1 = generate_plate(owner, project, beamline_id, \"96wp\", \"Plate {}\".format(i+1), \"{}\".format(i+1).zfill(13), samples)"
   ]
  },
  {
   "cell_type": "code",
   "execution_count": 9,
   "metadata": {
    "collapsed": true
   },
   "outputs": [],
   "source": [
    "def import_plate_from_excel(fname, owner, project, beamline_id, plate_kind):\n",
    "    samples = collections.deque()\n",
    "    excel_data = pandas.read_excel(fname,header=1)\n",
    "    \n",
    "    for line in excel_data.iterrows():\n",
    "        if line[0] == 0:\n",
    "            name = line[1][0]\n",
    "            barcode = str(int(line[1][1])).zfill(13)\n",
    "            plate_info = {    \n",
    "                \"owner\": owner,\n",
    "                \"project\": project,\n",
    "                \"beamline_id\": beamline_id,\n",
    "                \"kind\": plate_kind,\n",
    "                \"name\": name,\n",
    "                \"barcode\": barcode,\n",
    "            }\n",
    "        s_x = line[1][2]\n",
    "        s_y = line[1][3]\n",
    "        s_name = line[1][4]\n",
    "        s_shortname = line[1][5]\n",
    "        s_conc = line[1][6]\n",
    "        s_volume = line[1][7]\n",
    "        s_temperature = line[1][8]\n",
    "        sample_info = {\n",
    "                \"project\": project,\n",
    "                \"beamline_id\": beamline_id,\n",
    "                \"owner\": owner,\n",
    "                \"name\": s_name,\n",
    "                \"short_name\": s_shortname,\n",
    "                \"position\": {\"x\": s_x, \"y\": s_y},\n",
    "                \"concentration\": s_conc,\n",
    "                \"volume\": s_volume,\n",
    "                \"temperature\": s_temperature        \n",
    "            }\n",
    "        samples.append(sample_info)\n",
    "        \n",
    "    return plate_info, samples"
   ]
  },
  {
   "cell_type": "code",
   "execution_count": 10,
   "metadata": {
    "collapsed": false
   },
   "outputs": [
    {
     "ename": "FileNotFoundError",
     "evalue": "[Errno 2] No such file or directory: '/Users/arkilic/Desktop/Sample_Import.xlsx'",
     "output_type": "error",
     "traceback": [
      "\u001b[0;31m---------------------------------------------------------------------------\u001b[0m",
      "\u001b[0;31mFileNotFoundError\u001b[0m                         Traceback (most recent call last)",
      "\u001b[0;32m<ipython-input-10-0054d4d8276a>\u001b[0m in \u001b[0;36m<module>\u001b[0;34m()\u001b[0m\n\u001b[1;32m      1\u001b[0m \u001b[0mexcel_file\u001b[0m \u001b[0;34m=\u001b[0m \u001b[0;34m\"/Users/arkilic/Desktop/Sample_Import.xlsx\"\u001b[0m\u001b[0;34m\u001b[0m\u001b[0m\n\u001b[0;32m----> 2\u001b[0;31m \u001b[0mplate\u001b[0m\u001b[0;34m,\u001b[0m \u001b[0msamples\u001b[0m \u001b[0;34m=\u001b[0m \u001b[0mimport_plate_from_excel\u001b[0m\u001b[0;34m(\u001b[0m\u001b[0mexcel_file\u001b[0m\u001b[0;34m,\u001b[0m \u001b[0mowner\u001b[0m\u001b[0;34m,\u001b[0m \u001b[0mproject\u001b[0m\u001b[0;34m,\u001b[0m \u001b[0mbeamline_id\u001b[0m\u001b[0;34m,\u001b[0m \u001b[0;34m\"96wp\"\u001b[0m\u001b[0;34m)\u001b[0m\u001b[0;34m\u001b[0m\u001b[0m\n\u001b[0m",
      "\u001b[0;32m<ipython-input-9-604b89fa741d>\u001b[0m in \u001b[0;36mimport_plate_from_excel\u001b[0;34m(fname, owner, project, beamline_id, plate_kind)\u001b[0m\n\u001b[1;32m      1\u001b[0m \u001b[0;32mdef\u001b[0m \u001b[0mimport_plate_from_excel\u001b[0m\u001b[0;34m(\u001b[0m\u001b[0mfname\u001b[0m\u001b[0;34m,\u001b[0m \u001b[0mowner\u001b[0m\u001b[0;34m,\u001b[0m \u001b[0mproject\u001b[0m\u001b[0;34m,\u001b[0m \u001b[0mbeamline_id\u001b[0m\u001b[0;34m,\u001b[0m \u001b[0mplate_kind\u001b[0m\u001b[0;34m)\u001b[0m\u001b[0;34m:\u001b[0m\u001b[0;34m\u001b[0m\u001b[0m\n\u001b[1;32m      2\u001b[0m     \u001b[0msamples\u001b[0m \u001b[0;34m=\u001b[0m \u001b[0mcollections\u001b[0m\u001b[0;34m.\u001b[0m\u001b[0mdeque\u001b[0m\u001b[0;34m(\u001b[0m\u001b[0;34m)\u001b[0m\u001b[0;34m\u001b[0m\u001b[0m\n\u001b[0;32m----> 3\u001b[0;31m     \u001b[0mexcel_data\u001b[0m \u001b[0;34m=\u001b[0m \u001b[0mpandas\u001b[0m\u001b[0;34m.\u001b[0m\u001b[0mread_excel\u001b[0m\u001b[0;34m(\u001b[0m\u001b[0mfname\u001b[0m\u001b[0;34m,\u001b[0m\u001b[0mheader\u001b[0m\u001b[0;34m=\u001b[0m\u001b[0;36m1\u001b[0m\u001b[0;34m)\u001b[0m\u001b[0;34m\u001b[0m\u001b[0m\n\u001b[0m\u001b[1;32m      4\u001b[0m \u001b[0;34m\u001b[0m\u001b[0m\n\u001b[1;32m      5\u001b[0m     \u001b[0;32mfor\u001b[0m \u001b[0mline\u001b[0m \u001b[0;32min\u001b[0m \u001b[0mexcel_data\u001b[0m\u001b[0;34m.\u001b[0m\u001b[0miterrows\u001b[0m\u001b[0;34m(\u001b[0m\u001b[0;34m)\u001b[0m\u001b[0;34m:\u001b[0m\u001b[0;34m\u001b[0m\u001b[0m\n",
      "\u001b[0;32m//anaconda/envs/dev/lib/python3.5/site-packages/pandas/io/excel.py\u001b[0m in \u001b[0;36mread_excel\u001b[0;34m(io, sheetname, header, skiprows, skip_footer, index_col, names, parse_cols, parse_dates, date_parser, na_values, thousands, convert_float, has_index_names, converters, engine, squeeze, **kwds)\u001b[0m\n\u001b[1;32m    168\u001b[0m     \"\"\"\n\u001b[1;32m    169\u001b[0m     \u001b[0;32mif\u001b[0m \u001b[0;32mnot\u001b[0m \u001b[0misinstance\u001b[0m\u001b[0;34m(\u001b[0m\u001b[0mio\u001b[0m\u001b[0;34m,\u001b[0m \u001b[0mExcelFile\u001b[0m\u001b[0;34m)\u001b[0m\u001b[0;34m:\u001b[0m\u001b[0;34m\u001b[0m\u001b[0m\n\u001b[0;32m--> 170\u001b[0;31m         \u001b[0mio\u001b[0m \u001b[0;34m=\u001b[0m \u001b[0mExcelFile\u001b[0m\u001b[0;34m(\u001b[0m\u001b[0mio\u001b[0m\u001b[0;34m,\u001b[0m \u001b[0mengine\u001b[0m\u001b[0;34m=\u001b[0m\u001b[0mengine\u001b[0m\u001b[0;34m)\u001b[0m\u001b[0;34m\u001b[0m\u001b[0m\n\u001b[0m\u001b[1;32m    171\u001b[0m \u001b[0;34m\u001b[0m\u001b[0m\n\u001b[1;32m    172\u001b[0m     return io._parse_excel(\n",
      "\u001b[0;32m//anaconda/envs/dev/lib/python3.5/site-packages/pandas/io/excel.py\u001b[0m in \u001b[0;36m__init__\u001b[0;34m(self, io, **kwds)\u001b[0m\n\u001b[1;32m    225\u001b[0m             \u001b[0mself\u001b[0m\u001b[0;34m.\u001b[0m\u001b[0mbook\u001b[0m \u001b[0;34m=\u001b[0m \u001b[0mxlrd\u001b[0m\u001b[0;34m.\u001b[0m\u001b[0mopen_workbook\u001b[0m\u001b[0;34m(\u001b[0m\u001b[0mfile_contents\u001b[0m\u001b[0;34m=\u001b[0m\u001b[0mdata\u001b[0m\u001b[0;34m)\u001b[0m\u001b[0;34m\u001b[0m\u001b[0m\n\u001b[1;32m    226\u001b[0m         \u001b[0;32melif\u001b[0m \u001b[0misinstance\u001b[0m\u001b[0;34m(\u001b[0m\u001b[0mio\u001b[0m\u001b[0;34m,\u001b[0m \u001b[0mcompat\u001b[0m\u001b[0;34m.\u001b[0m\u001b[0mstring_types\u001b[0m\u001b[0;34m)\u001b[0m\u001b[0;34m:\u001b[0m\u001b[0;34m\u001b[0m\u001b[0m\n\u001b[0;32m--> 227\u001b[0;31m             \u001b[0mself\u001b[0m\u001b[0;34m.\u001b[0m\u001b[0mbook\u001b[0m \u001b[0;34m=\u001b[0m \u001b[0mxlrd\u001b[0m\u001b[0;34m.\u001b[0m\u001b[0mopen_workbook\u001b[0m\u001b[0;34m(\u001b[0m\u001b[0mio\u001b[0m\u001b[0;34m)\u001b[0m\u001b[0;34m\u001b[0m\u001b[0m\n\u001b[0m\u001b[1;32m    228\u001b[0m         \u001b[0;32melse\u001b[0m\u001b[0;34m:\u001b[0m\u001b[0;34m\u001b[0m\u001b[0m\n\u001b[1;32m    229\u001b[0m             raise ValueError('Must explicitly set engine if not passing in'\n",
      "\u001b[0;32m//anaconda/envs/dev/lib/python3.5/site-packages/xlrd/__init__.py\u001b[0m in \u001b[0;36mopen_workbook\u001b[0;34m(filename, logfile, verbosity, use_mmap, file_contents, encoding_override, formatting_info, on_demand, ragged_rows)\u001b[0m\n\u001b[1;32m    393\u001b[0m         \u001b[0mpeek\u001b[0m \u001b[0;34m=\u001b[0m \u001b[0mfile_contents\u001b[0m\u001b[0;34m[\u001b[0m\u001b[0;34m:\u001b[0m\u001b[0mpeeksz\u001b[0m\u001b[0;34m]\u001b[0m\u001b[0;34m\u001b[0m\u001b[0m\n\u001b[1;32m    394\u001b[0m     \u001b[0;32melse\u001b[0m\u001b[0;34m:\u001b[0m\u001b[0;34m\u001b[0m\u001b[0m\n\u001b[0;32m--> 395\u001b[0;31m         \u001b[0;32mwith\u001b[0m \u001b[0mopen\u001b[0m\u001b[0;34m(\u001b[0m\u001b[0mfilename\u001b[0m\u001b[0;34m,\u001b[0m \u001b[0;34m\"rb\"\u001b[0m\u001b[0;34m)\u001b[0m \u001b[0;32mas\u001b[0m \u001b[0mf\u001b[0m\u001b[0;34m:\u001b[0m\u001b[0;34m\u001b[0m\u001b[0m\n\u001b[0m\u001b[1;32m    396\u001b[0m             \u001b[0mpeek\u001b[0m \u001b[0;34m=\u001b[0m \u001b[0mf\u001b[0m\u001b[0;34m.\u001b[0m\u001b[0mread\u001b[0m\u001b[0;34m(\u001b[0m\u001b[0mpeeksz\u001b[0m\u001b[0;34m)\u001b[0m\u001b[0;34m\u001b[0m\u001b[0m\n\u001b[1;32m    397\u001b[0m     \u001b[0;32mif\u001b[0m \u001b[0mpeek\u001b[0m \u001b[0;34m==\u001b[0m \u001b[0;34mb\"PK\\x03\\x04\"\u001b[0m\u001b[0;34m:\u001b[0m \u001b[0;31m# a ZIP file\u001b[0m\u001b[0;34m\u001b[0m\u001b[0m\n",
      "\u001b[0;31mFileNotFoundError\u001b[0m: [Errno 2] No such file or directory: '/Users/arkilic/Desktop/Sample_Import.xlsx'"
     ]
    }
   ],
   "source": [
    "excel_file = \"/Users/arkilic/Desktop/Sample_Import.xlsx\"\n",
    "plate, samples = import_plate_from_excel(excel_file, owner, project, beamline_id, \"96wp\")"
   ]
  },
  {
   "cell_type": "code",
   "execution_count": null,
   "metadata": {
    "collapsed": true
   },
   "outputs": [],
   "source": []
  }
 ],
 "metadata": {
  "kernelspec": {
   "display_name": "Python 3",
   "language": "python",
   "name": "python3"
  },
  "language_info": {
   "codemirror_mode": {
    "name": "ipython",
    "version": 3
   },
   "file_extension": ".py",
   "mimetype": "text/x-python",
   "name": "python",
   "nbconvert_exporter": "python",
   "pygments_lexer": "ipython3",
   "version": "3.5.2"
  }
 },
 "nbformat": 4,
 "nbformat_minor": 0
}
